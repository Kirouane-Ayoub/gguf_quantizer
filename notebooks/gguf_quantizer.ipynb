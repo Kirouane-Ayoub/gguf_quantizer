{
  "nbformat": 4,
  "nbformat_minor": 0,
  "metadata": {
    "colab": {
      "provenance": [],
      "gpuType": "T4"
    },
    "kernelspec": {
      "name": "python3",
      "display_name": "Python 3"
    },
    "language_info": {
      "name": "python"
    },
    "accelerator": "GPU"
  },
  "cells": [
    {
      "cell_type": "code",
      "execution_count": null,
      "metadata": {
        "id": "MDWFEU7XArxU"
      },
      "outputs": [],
      "source": [
        "# Install llama.cpp\n",
        "!git clone https://github.com/Kirouane-Ayoub/llama.cpp\n",
        "!cd llama.cpp && git pull && make clean && LLAMA_CUBLAS=1 make\n",
        "!pip  -q install -r llama.cpp/requirements.txt"
      ]
    },
    {
      "cell_type": "code",
      "source": [
        "!pip install gguf-quantizer==0.1"
      ],
      "metadata": {
        "id": "ZyhI1MGTA26Y"
      },
      "execution_count": null,
      "outputs": []
    },
    {
      "cell_type": "code",
      "source": [
        "from llama_gguf_quantizer import quantization"
      ],
      "metadata": {
        "id": "sTYgh6bDA5B3"
      },
      "execution_count": null,
      "outputs": []
    },
    {
      "cell_type": "code",
      "source": [
        "quantization.run(MODEL_ID=\"NousResearch/llama-2-7b-chat-hf\" , QUANTIZATION_METHODS = [\"q4_k_m\"] )"
      ],
      "metadata": {
        "id": "F5DxDjvIA7Vd"
      },
      "execution_count": null,
      "outputs": []
    }
  ]
}